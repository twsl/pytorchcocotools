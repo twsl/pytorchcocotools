{
 "cells": [
  {
   "cell_type": "markdown",
   "id": "3ee044f4",
   "metadata": {},
   "source": [
    "# PyTorch COCO Tools Profiler Utility\n"
   ]
  },
  {
   "cell_type": "code",
   "execution_count": null,
   "id": "e4103547",
   "metadata": {},
   "outputs": [],
   "source": [
    "from pytorchcocotools.utils.profiler import CombinedProfiler"
   ]
  },
  {
   "cell_type": "code",
   "execution_count": null,
   "id": "1cde11b2",
   "metadata": {},
   "outputs": [],
   "source": [
    "import torch\n",
    "from torchvision import tv_tensors as tv\n",
    "\n",
    "from pytorchcocotools import _mask, mask\n",
    "from pytorchcocotools.internal.mask_api import (\n",
    "    bbIou,\n",
    "    rleArea,\n",
    "    rleDecode,\n",
    "    rleEncode,\n",
    "    rleFrBbox,\n",
    "    rleFrPoly,\n",
    "    rleFrString,\n",
    "    rleIou,\n",
    "    rleMerge,\n",
    "    rleToBbox,\n",
    "    rleToString,\n",
    ")"
   ]
  },
  {
   "cell_type": "code",
   "execution_count": null,
   "id": "efbc1398",
   "metadata": {},
   "outputs": [],
   "source": [
    "profiler = CombinedProfiler(\n",
    "    functions_to_profile=[\n",
    "        # impl methods\n",
    "        bbIou,\n",
    "        rleArea,\n",
    "        rleDecode,\n",
    "        rleEncode,\n",
    "        rleFrBbox,\n",
    "        rleFrPoly,\n",
    "        rleFrString,\n",
    "        rleIou,\n",
    "        rleMerge,\n",
    "        rleToBbox,\n",
    "        rleToString,\n",
    "    ],\n",
    ")\n",
    "device = \"cuda\"\n",
    "\n",
    "mask_pt = tv.Mask(torch.zeros((50, 50), dtype=torch.uint8)).cuda()\n",
    "mask_pt[10:25, 10:25] = 1\n",
    "\n",
    "with profiler.profile() as prof:\n",
    "    rle_pt = mask.encode(mask_pt, device=device)  # pyright: ignore[reportArgumentType]\n",
    "    mask_pt = mask.frPyObjects([[1, 1, 2, 2, 3, 3, 4, 4, 5, 5]], 50, 50, device=device)\n",
    "    m = mask.area(rle_pt, device=device)"
   ]
  }
 ],
 "metadata": {
  "kernelspec": {
   "display_name": "Python 3",
   "language": "python",
   "name": "python3"
  },
  "language_info": {
   "codemirror_mode": {
    "name": "ipython",
    "version": 3
   },
   "file_extension": ".py",
   "mimetype": "text/x-python",
   "name": "python",
   "nbconvert_exporter": "python",
   "pygments_lexer": "ipython3",
   "version": "3.11.11"
  }
 },
 "nbformat": 4,
 "nbformat_minor": 5
}
