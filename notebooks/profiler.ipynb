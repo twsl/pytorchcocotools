{
 "cells": [
  {
   "cell_type": "markdown",
   "id": "3ee044f4",
   "metadata": {},
   "source": [
    "# PyTorch COCO Tools Profiler Utility\n"
   ]
  },
  {
   "cell_type": "code",
   "execution_count": null,
   "id": "dae66bda",
   "metadata": {},
   "outputs": [],
   "source": [
    "import logging\n",
    "from pathlib import Path\n",
    "import sys\n",
    "\n",
    "import torch\n",
    "import torch.nn as nn\n",
    "\n",
    "\n",
    "# Add the src directory to the path to import the utility\n",
    "# Adjust the path if necessary based on where you run the notebook\n",
    "module_path = Path().resolve().parent / \"src\"\n",
    "if str(module_path) not in sys.path:\n",
    "    sys.path.append(str(module_path))\n",
    "\n",
    "\n",
    "logging.basicConfig(level=logging.INFO)"
   ]
  },
  {
   "cell_type": "markdown",
   "id": "cd1eba38",
   "metadata": {},
   "source": [
    "## Setup Model and Inputs"
   ]
  },
  {
   "cell_type": "code",
   "execution_count": null,
   "id": "b373f241",
   "metadata": {},
   "outputs": [],
   "source": [
    "from torch import Tensor\n",
    "\n",
    "\n",
    "def my_complex_function(x: Tensor, y: Tensor) -> Tensor:\n",
    "    # Some operations\n",
    "    result = x * y + torch.sin(x)\n",
    "    result = result / (torch.cos(y) + 1e-6)\n",
    "    # More operations\n",
    "    for _ in range(3):\n",
    "        result = torch.relu(result)\n",
    "    return result"
   ]
  },
  {
   "cell_type": "markdown",
   "id": "5f825378",
   "metadata": {},
   "source": [
    "# Profile"
   ]
  },
  {
   "cell_type": "code",
   "execution_count": null,
   "id": "efbc1398",
   "metadata": {},
   "outputs": [],
   "source": [
    "from pytorchcocotools.utils.profiler import (\n",
    "    CombinedProfiler,\n",
    "    ProfilerActivity,  # pyright: ignore[reportPrivateImportUsage]\n",
    ")\n",
    "\n",
    "profiler = CombinedProfiler(\n",
    "    functions_to_profile=[my_complex_function],\n",
    "    activities=[\n",
    "        ProfilerActivity.CPU,\n",
    "        ProfilerActivity.CUDA,\n",
    "    ],\n",
    ")\n",
    "with profiler.profile() as prof:\n",
    "    a = torch.randn(64, 100)\n",
    "    b = torch.randn(64, 100)\n",
    "    model = nn.Linear(100, 10)\n",
    "\n",
    "    if torch.cuda.is_available():\n",
    "        a = a.cuda()\n",
    "        b = b.cuda()\n",
    "        model = model.cuda()\n",
    "\n",
    "    result = my_complex_function(a, b)"
   ]
  }
 ],
 "metadata": {
  "kernelspec": {
   "display_name": "Python 3",
   "language": "python",
   "name": "python3"
  },
  "language_info": {
   "codemirror_mode": {
    "name": "ipython",
    "version": 3
   },
   "file_extension": ".py",
   "mimetype": "text/x-python",
   "name": "python",
   "nbconvert_exporter": "python",
   "pygments_lexer": "ipython3",
   "version": "3.11.11"
  }
 },
 "nbformat": 4,
 "nbformat_minor": 5
}
