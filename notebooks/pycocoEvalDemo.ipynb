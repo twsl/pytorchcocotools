{
 "cells": [
  {
   "cell_type": "code",
   "execution_count": null,
   "metadata": {},
   "outputs": [],
   "source": [
    "%matplotlib inline\n",
    "import matplotlib.pyplot as plt\n",
    "import numpy as np\n",
    "import pylab\n",
    "import skimage.io as io\n",
    "\n",
    "from pytorchcocotools.coco import COCO\n",
    "from pytorchcocotools.cocoeval import COCOeval\n",
    "\n",
    "pylab.rcParams[\"figure.figsize\"] = (10.0, 8.0)"
   ]
  },
  {
   "cell_type": "code",
   "execution_count": null,
   "metadata": {},
   "outputs": [],
   "source": [
    "ann_type_list = [\"segm\", \"bbox\", \"keypoints\"]\n",
    "ann_type = ann_type_list[1]  # specify type here\n",
    "prefix = \"person_keypoints\" if ann_type == \"keypoints\" else \"instances\"\n",
    "print(f\"Running demo for *{ann_type}* results.\")"
   ]
  },
  {
   "cell_type": "code",
   "execution_count": null,
   "metadata": {},
   "outputs": [],
   "source": [
    "# initialize COCO ground truth api\n",
    "data_dir = \"../data\"\n",
    "data_type = \"val2017\"\n",
    "ann_file = f\"{data_dir}/annotations/{prefix}_{data_type}.json\"\n",
    "coco_gt = COCO(ann_file)"
   ]
  },
  {
   "cell_type": "code",
   "execution_count": null,
   "metadata": {},
   "outputs": [],
   "source": [
    "# initialize COCO detections api\n",
    "res_file = f\"{data_dir}/results/{prefix}_{data_type}_fake{ann_type}100_results.json\"\n",
    "coco_dt = coco_gt.loadRes(res_file)"
   ]
  },
  {
   "cell_type": "code",
   "execution_count": null,
   "metadata": {},
   "outputs": [],
   "source": [
    "img_ids = sorted(coco_gt.getImgIds())\n",
    "img_ids = img_ids[0:100]\n",
    "img_id = img_ids[np.random.randint(100)]"
   ]
  },
  {
   "cell_type": "code",
   "execution_count": null,
   "metadata": {},
   "outputs": [],
   "source": [
    "# running evaluation\n",
    "coco_eval = COCOeval(coco_gt, coco_dt, ann_type)  # pyright: ignore[reportArgumentType]\n",
    "coco_eval.params.imgIds = img_ids\n",
    "coco_eval.evaluate()\n",
    "coco_eval.accumulate()\n",
    "coco_eval.summarize()"
   ]
  }
 ],
 "metadata": {
  "kernelspec": {
   "display_name": "Python 2",
   "language": "python",
   "name": "python2"
  },
  "language_info": {
   "codemirror_mode": {
    "name": "ipython",
    "version": 2
   },
   "file_extension": ".py",
   "mimetype": "text/x-python",
   "name": "python",
   "nbconvert_exporter": "python",
   "pygments_lexer": "ipython2",
   "version": "2.7.10"
  }
 },
 "nbformat": 4,
 "nbformat_minor": 0
}
