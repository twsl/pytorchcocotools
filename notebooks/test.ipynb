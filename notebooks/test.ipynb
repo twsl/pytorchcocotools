{
 "cells": [
  {
   "cell_type": "code",
   "execution_count": null,
   "metadata": {},
   "outputs": [],
   "source": [
    "from pycocotools import _mask as mask_util\n",
    "import torch\n",
    "\n",
    "size = (100, 100)\n",
    "counts = [3, 0, 2, 3, 1, 5, 1, 6, 1, 7, 1, 8, 2, 9, 1, 11, 1, 12, 1, 13, 1, 14, 1, 15, 2, 16, 2, 18]\n",
    "\n",
    "# Calculate the number of pixels in the binary mask\n",
    "num_pixels = size[0] * size[1]\n",
    "\n",
    "# Create a binary mask tensor of zeros\n",
    "mask_tensor = torch.zeros(num_pixels, dtype=torch.uint8)\n",
    "\n",
    "# Extract the run-lengths and starting indices from the RLE\n",
    "rle_counts = torch.tensor(counts[::2], dtype=torch.long)\n",
    "rle_indices = torch.tensor(counts[1::2], dtype=torch.long)\n",
    "\n",
    "# Calculate the ending indices of each run of 1s\n",
    "rle_ends = rle_indices + rle_counts\n",
    "\n",
    "# Create a list of the indices of the 1s in the mask\n",
    "indices_list = [torch.arange(start, end) for start, end in zip(rle_indices, rle_ends)]\n",
    "\n",
    "# Set the corresponding pixels in the mask to 1 using vectorized indexing\n",
    "mask_tensor[torch.cat(indices_list)] = 1\n",
    "\n",
    "# Reshape the 1D tensor into a 2D binary mask tensor\n",
    "mask_tensor = mask_tensor.reshape(size[0], size[1])\n",
    "\n",
    "mask_tensor"
   ]
  },
  {
   "cell_type": "code",
   "execution_count": null,
   "metadata": {},
   "outputs": [],
   "source": [
    "x = bytes([17, 24, 121, 1, 12, 222, 34, 76])\n",
    "print(x)\n",
    "print(list(x))"
   ]
  },
  {
   "cell_type": "code",
   "execution_count": null,
   "metadata": {},
   "outputs": [],
   "source": [
    "a = b\"0550000000b1\"\n",
    "\n",
    "\n",
    "def encode_int_list(int_list):\n",
    "    # Initialize an empty string to store the encoded data\n",
    "    encoded_str = \"\"\n",
    "    # Loop over each integer in the list\n",
    "    for i in int_list:\n",
    "        # Convert the integer to a binary string, removing the '0b' prefix\n",
    "        binary_str = bin(i)[2:]\n",
    "        # Pad the binary string with zeros until it's a multiple of 6 bits long\n",
    "        padded_str = binary_str.zfill((len(binary_str) + 5) // 6 * 6)\n",
    "        # Break the padded string into 6-bit chunks and convert each to an integer\n",
    "        chunk_list = [int(padded_str[j : j + 6], 2) for j in range(0, len(padded_str), 6)]\n",
    "        # Encode each chunk as an ASCII character in the range 48-111\n",
    "        encoded_chars = [chr(chunk + 48) for chunk in chunk_list]\n",
    "        # Add the encoded characters to the output string\n",
    "        encoded_str += \"\".join(encoded_chars)\n",
    "    return encoded_str\n",
    "\n",
    "\n",
    "list(encode_int_list(a))"
   ]
  },
  {
   "cell_type": "code",
   "execution_count": null,
   "metadata": {},
   "outputs": [],
   "source": [
    "a = b\"0T3\"\n",
    "b = bytearray(a)\n",
    "r = 0\n",
    "for i, e in enumerate(b):\n",
    "    r = r + ((e & 0x7F) << (i * 7))\n",
    "if e & 0x40 != 0:\n",
    "    r |= -(1 << (i * 7) + 7)\n",
    "print(r)\n",
    "print([int(x) for x in bin(r)[2:]])"
   ]
  },
  {
   "cell_type": "code",
   "execution_count": null,
   "metadata": {},
   "outputs": [],
   "source": [
    "a = b\"0T3\"\n",
    "import torch\n",
    "\n",
    "\n",
    "def rleFrString(s):\n",
    "    s_str = s.decode()\n",
    "    s_numeric = torch.tensor([int(c) for c in s_str if c.isdigit()], dtype=torch.uint8)\n",
    "    mask = s_numeric & 0x20\n",
    "\n",
    "    positions = torch.nonzero(s_numeric, as_tuple=True)[0]\n",
    "    lengths = torch.diff(positions, dim=0) - 1\n",
    "\n",
    "    k_values = torch.arange(0, 5 * int(lengths.max()), step=5, device=s_numeric.device)\n",
    "    bitshift = k_values.repeat_interleave(lengths)\n",
    "\n",
    "    x = (s_numeric & 0x1F) << bitshift\n",
    "    x = torch.cumsum(x * mask, dim=0)\n",
    "\n",
    "    x_neg_mask = (~mask) & (s_numeric & 0x10).bool()\n",
    "    x_neg = x_neg_mask.to(torch.int32) * (-1 << bitshift)\n",
    "    x += torch.cumsum(x_neg, dim=0) * x_neg_mask\n",
    "\n",
    "    cnts = torch.zeros_like(x, dtype=torch.uint32)\n",
    "    cnts[2:] = x[:-2]\n",
    "\n",
    "    return cnts\n",
    "\n",
    "\n",
    "list(rleFrString(a))"
   ]
  },
  {
   "cell_type": "code",
   "execution_count": null,
   "metadata": {},
   "outputs": [],
   "source": [
    "a.decode(\"utf-8\")"
   ]
  },
  {
   "cell_type": "code",
   "execution_count": null,
   "metadata": {},
   "outputs": [],
   "source": [
    "list(a.decode())"
   ]
  },
  {
   "cell_type": "code",
   "execution_count": null,
   "metadata": {},
   "outputs": [],
   "source": [
    "a.decode(\"utf-8\")"
   ]
  },
  {
   "cell_type": "code",
   "execution_count": null,
   "metadata": {},
   "outputs": [],
   "source": [
    "a.decode(\"ascii\")"
   ]
  },
  {
   "cell_type": "code",
   "execution_count": null,
   "metadata": {},
   "outputs": [],
   "source": [
    "from pycocotools import mask as coco_mask\n",
    "\n",
    "# Example COCO run-length encoded mask\n",
    "rle = {\n",
    "    \"counts\": bytes([3, 0, 2, 3, 1, 5, 1, 6, 1, 7, 1, 8, 2, 9, 1, 11, 1, 12, 1, 13, 1, 14, 1, 15, 2, 16, 2, 18]),\n",
    "    \"size\": [4, 5],\n",
    "}\n",
    "\n",
    "# Decode COCO RLE mask to binary mask numpy array\n",
    "mask = coco_mask.decode(rle)"
   ]
  },
  {
   "cell_type": "code",
   "execution_count": null,
   "metadata": {},
   "outputs": [],
   "source": [
    "a = b\"0550000000b1\"\n",
    "import numpy as np\n",
    "import struct\n",
    "\n",
    "\n",
    "def decode_run_length(encoded_string):\n",
    "    binary_data = bytearray.fromhex(encoded_string.decode(\"ascii\"))\n",
    "    binary_string = \"\"\n",
    "    for byte in binary_data:\n",
    "        bits = bin(byte)[2:].zfill(8)\n",
    "        binary_string += bits[2:]\n",
    "    matrix = np.array(list(binary_string), dtype=int)\n",
    "    return matrix\n",
    "\n",
    "\n",
    "encoded_string = a\n",
    "\n",
    "decoded_matrix = decode_run_length(encoded_string)\n",
    "print(decoded_matrix)"
   ]
  },
  {
   "cell_type": "code",
   "execution_count": null,
   "metadata": {},
   "outputs": [],
   "source": [
    "def rleFromString(s):\n",
    "    m = len(s)\n",
    "    p = 0\n",
    "    k = 0\n",
    "    cnts = []\n",
    "\n",
    "    # Allocate memory for storing counts\n",
    "    cnts = [0] * m\n",
    "    m = 0\n",
    "\n",
    "    # Process the input string 's'\n",
    "    while s[p]:\n",
    "        x = 0\n",
    "        k = 0\n",
    "        more = True\n",
    "\n",
    "        # Read and decode the characters in 's' until 'more' is False\n",
    "        while more:\n",
    "            c = ord(s[p]) - 48\n",
    "            x |= (c & 0x1F) << (5 * k)\n",
    "            more = bool(c & 0x20)\n",
    "            p += 1\n",
    "            k += 1\n",
    "\n",
    "            # If 'more' is False and the fifth bit (0x10) of 'c' is set, it means\n",
    "            # the value of 'x' should be a negative number, so we perform sign extension\n",
    "            if not more and (c & 0x10):\n",
    "                x |= -1 << (5 * k)\n",
    "\n",
    "        # Add the previous count to 'x' if there were more than 2 counts\n",
    "        if m > 2:\n",
    "            x += cnts[m - 2]\n",
    "\n",
    "        # Store the decoded value of 'x' in 'cnts'\n",
    "        cnts[m] = x\n",
    "        m += 1\n",
    "    return cnts\n",
    "\n",
    "\n",
    "rleFromString(a)"
   ]
  },
  {
   "cell_type": "code",
   "execution_count": null,
   "metadata": {},
   "outputs": [],
   "source": [
    "def rleFrBytes(s):\n",
    "    m = len(s)\n",
    "    cnts = [0] * m\n",
    "    p = 0\n",
    "    m = 0\n",
    "\n",
    "    while p < len(s):\n",
    "        x = 0\n",
    "        k = 0\n",
    "        more = True\n",
    "\n",
    "        while more:\n",
    "            c = s[p] - 48\n",
    "            x |= (c & 0x1F) << (5 * k)\n",
    "            more = bool(c & 0x20)\n",
    "            p += 1\n",
    "            k += 1\n",
    "            if not more and (c & 0x10):\n",
    "                x |= -1 << (5 * k)\n",
    "\n",
    "        if m > 2:\n",
    "            x += cnts[m - 2]\n",
    "\n",
    "        cnts[m] = x\n",
    "        m += 1\n",
    "\n",
    "    if len(cnts) % 2 != 0:\n",
    "        cnts.append(0)\n",
    "\n",
    "    return cnts\n",
    "\n",
    "\n",
    "a = b\"0T3\"\n",
    "rleFrBytes(a)"
   ]
  }
 ],
 "metadata": {
  "kernelspec": {
   "display_name": "Python 3",
   "language": "python",
   "name": "python3"
  },
  "language_info": {
   "codemirror_mode": {
    "name": "ipython",
    "version": 3
   },
   "file_extension": ".py",
   "mimetype": "text/x-python",
   "name": "python",
   "nbconvert_exporter": "python",
   "pygments_lexer": "ipython3",
   "version": "3.10.11"
  }
 },
 "nbformat": 4,
 "nbformat_minor": 2
}
