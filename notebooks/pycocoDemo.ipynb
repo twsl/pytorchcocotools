{
 "cells": [
  {
   "cell_type": "code",
   "execution_count": null,
   "metadata": {},
   "outputs": [],
   "source": [
    "%matplotlib inline\n",
    "import matplotlib.pyplot as plt\n",
    "import numpy as np\n",
    "import pylab\n",
    "import skimage.io as io\n",
    "\n",
    "from pytorchcocotools.coco import COCO\n",
    "\n",
    "pylab.rcParams[\"figure.figsize\"] = (8.0, 10.0)"
   ]
  },
  {
   "cell_type": "code",
   "execution_count": null,
   "metadata": {},
   "outputs": [],
   "source": [
    "data_dir = \"../data\"\n",
    "data_type = \"val2017\"\n",
    "ann_file = f\"{data_dir}/annotations/instances_{data_type}.json\""
   ]
  },
  {
   "cell_type": "code",
   "execution_count": null,
   "metadata": {},
   "outputs": [],
   "source": [
    "# initialize COCO api for instance annotations\n",
    "coco = COCO(ann_file)"
   ]
  },
  {
   "cell_type": "code",
   "execution_count": null,
   "metadata": {},
   "outputs": [],
   "source": [
    "# display COCO categories and supercategories\n",
    "cats = coco.loadCats(coco.getCatIds())\n",
    "nms = [cat[\"name\"] for cat in cats]\n",
    "print(\"COCO categories: \\n{}\\n\".format(\" \".join(nms)))\n",
    "\n",
    "nms = {cat[\"supercategory\"] for cat in cats}\n",
    "sup_cat = \" \".join(nms)\n",
    "print(f\"COCO supercategories: \\n{sup_cat}\")"
   ]
  },
  {
   "cell_type": "code",
   "execution_count": null,
   "metadata": {},
   "outputs": [],
   "source": [
    "# get all images containing given categories, select one at random\n",
    "cat_ids = coco.getCatIds(catNms=[\"person\", \"dog\", \"skateboard\"])\n",
    "img_ids = coco.getImgIds(catIds=cat_ids)\n",
    "img_ids = coco.getImgIds(imgIds=[324158])\n",
    "img = coco.loadImgs(img_ids[np.random.randint(0, len(img_ids))])[0]"
   ]
  },
  {
   "cell_type": "code",
   "execution_count": null,
   "metadata": {},
   "outputs": [],
   "source": [
    "# load and display image\n",
    "# img = io.imread('%s/images/%s/%s'%(dataDir,dataType,img['file_name']))\n",
    "# use url to load image\n",
    "image = io.imread(img[\"coco_url\"])\n",
    "plt.axis(\"off\")\n",
    "plt.imshow(image)\n",
    "plt.show()"
   ]
  },
  {
   "cell_type": "code",
   "execution_count": null,
   "metadata": {},
   "outputs": [],
   "source": [
    "# load and display instance annotations\n",
    "plt.imshow(image)\n",
    "plt.axis(\"off\")\n",
    "ann_ids = coco.getAnnIds(imgIds=img[\"id\"], catIds=cat_ids, iscrowd=None)\n",
    "anns = coco.loadAnns(ann_ids)\n",
    "coco.showAnns(anns)"
   ]
  },
  {
   "cell_type": "code",
   "execution_count": null,
   "metadata": {},
   "outputs": [],
   "source": [
    "# initialize COCO api for person keypoints annotations\n",
    "ann_file = f\"{data_dir}/annotations/person_keypoints_{data_type}.json\"\n",
    "coco_kps = COCO(ann_file)"
   ]
  },
  {
   "cell_type": "code",
   "execution_count": null,
   "metadata": {},
   "outputs": [],
   "source": [
    "# load and display keypoints annotations\n",
    "plt.imshow(image)\n",
    "plt.axis(\"off\")\n",
    "ax = plt.gca()\n",
    "ann_ids = coco_kps.getAnnIds(imgIds=img[\"id\"], catIds=cat_ids, iscrowd=None)\n",
    "anns = coco_kps.loadAnns(ann_ids)\n",
    "coco_kps.showAnns(anns)"
   ]
  },
  {
   "cell_type": "code",
   "execution_count": null,
   "metadata": {},
   "outputs": [],
   "source": [
    "# initialize COCO api for caption annotations\n",
    "ann_file = f\"{data_dir}/annotations/captions_{data_type}.json\"\n",
    "coco_caps = COCO(ann_file)"
   ]
  },
  {
   "cell_type": "code",
   "execution_count": null,
   "metadata": {},
   "outputs": [],
   "source": [
    "# load and display caption annotations\n",
    "ann_ids = coco_caps.getAnnIds(imgIds=img[\"id\"])\n",
    "anns = coco_caps.loadAnns(ann_ids)\n",
    "coco_caps.showAnns(anns)\n",
    "plt.imshow(image)\n",
    "plt.axis(\"off\")\n",
    "plt.show()"
   ]
  }
 ],
 "metadata": {
  "kernelspec": {
   "display_name": "Python 2",
   "language": "python",
   "name": "python2"
  },
  "language_info": {
   "codemirror_mode": {
    "name": "ipython",
    "version": 2
   },
   "file_extension": ".py",
   "mimetype": "text/x-python",
   "name": "python",
   "nbconvert_exporter": "python",
   "pygments_lexer": "ipython2",
   "version": "2.7.13"
  }
 },
 "nbformat": 4,
 "nbformat_minor": 1
}
